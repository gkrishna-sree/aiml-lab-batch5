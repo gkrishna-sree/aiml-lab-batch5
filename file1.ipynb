{
 "cells": [
  {
   "cell_type": "code",
   "execution_count": 1,
   "metadata": {},
   "outputs": [
    {
     "name": "stdout",
     "output_type": "stream",
     "text": [
      "[1, 2, 3]\n",
      "[1 2 3]\n"
     ]
    }
   ],
   "source": [
    "import numpy as np\n",
    "list1 = [1, 2, 3]\n",
    "print(list1)\n",
    "array1 = np.array(list1)\n",
    "print(array1)"
   ]
  },
  {
   "cell_type": "code",
   "execution_count": 1,
   "metadata": {},
   "outputs": [
    {
     "name": "stdout",
     "output_type": "stream",
     "text": [
      "        city office  revenue\n",
      "0   warangal   west      120\n",
      "1        hyd   east      132\n",
      "2      kochi  south      154\n",
      "3  bangalore  north      100\n"
     ]
    }
   ],
   "source": [
    "import pandas as pd\n",
    "\n",
    "city = ['warangal', 'hyd', 'kochi', 'bangalore']\n",
    "office = ['west', 'east', 'south', 'north']\n",
    "sales = [120, 132, 154, 100]\n",
    "\n",
    "offices = dict(city = city, office = office, revenue = sales)\n",
    "result = pd.DataFrame(offices)\n",
    "\n",
    "print(result.head())"
   ]
  }
 ],
 "metadata": {
  "kernelspec": {
   "display_name": "Python 3",
   "language": "python",
   "name": "python3"
  },
  "language_info": {
   "codemirror_mode": {
    "name": "ipython",
    "version": 3
   },
   "file_extension": ".py",
   "mimetype": "text/x-python",
   "name": "python",
   "nbconvert_exporter": "python",
   "pygments_lexer": "ipython3",
   "version": "3.10.13"
  }
 },
 "nbformat": 4,
 "nbformat_minor": 2
}

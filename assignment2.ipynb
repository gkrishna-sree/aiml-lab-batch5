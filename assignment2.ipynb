{
  "nbformat": 4,
  "nbformat_minor": 0,
  "metadata": {
    "colab": {
      "provenance": [],
      "authorship_tag": "ABX9TyNdo6i8qY6/a4KuZcjW/gHF",
      "include_colab_link": true
    },
    "kernelspec": {
      "name": "python3",
      "display_name": "Python 3"
    },
    "language_info": {
      "name": "python"
    }
  },
  "cells": [
    {
      "cell_type": "markdown",
      "metadata": {
        "id": "view-in-github",
        "colab_type": "text"
      },
      "source": [
        "<a href=\"https://colab.research.google.com/github/gkrishna-sree/aiml-lab-batch5/blob/main/assignment2.ipynb\" target=\"_parent\"><img src=\"https://colab.research.google.com/assets/colab-badge.svg\" alt=\"Open In Colab\"/></a>"
      ]
    },
    {
      "cell_type": "markdown",
      "source": [
        "Implement Breadth First Search Algorithm using a Queue"
      ],
      "metadata": {
        "id": "J5uL94sxjoaH"
      }
    },
    {
      "cell_type": "code",
      "source": [
        "from queue import Queue\n",
        "\n",
        "graph = {0: [1, 3], 1: [0, 2, 3], 2: [4, 1, 5], 3: [4, 0, 1], 4: [2, 3, 5], 5: [4, 2], 6: []}\n",
        "print(\"The adjacency List representing the graph is:\")\n",
        "print(graph)\n",
        "\n",
        "\n",
        "def bfs(graph, source):\n",
        "    Q = Queue()\n",
        "    visited_vertices = set()\n",
        "    Q.put(source)\n",
        "    visited_vertices.update({0})\n",
        "    while not Q.empty():\n",
        "        vertex = Q.get()\n",
        "        print(vertex, end=\"-->\")\n",
        "        for u in graph[vertex]:\n",
        "            if u not in visited_vertices:\n",
        "                Q.put(u)\n",
        "                visited_vertices.update({u})\n",
        "\n",
        "print(\"BFS traversal of graph with source 0 is:\")\n",
        "bfs(graph, 0)"
      ],
      "metadata": {
        "colab": {
          "base_uri": "https://localhost:8080/"
        },
        "id": "PUDYHwq1jnmD",
        "outputId": "c4e4c9c6-dd7c-4ba7-9d9d-510eff51d8fb"
      },
      "execution_count": 1,
      "outputs": [
        {
          "output_type": "stream",
          "name": "stdout",
          "text": [
            "The adjacency List representing the graph is:\n",
            "{0: [1, 3], 1: [0, 2, 3], 2: [4, 1, 5], 3: [4, 0, 1], 4: [2, 3, 5], 5: [4, 2], 6: []}\n",
            "BFS traversal of graph with source 0 is:\n",
            "0-->1-->3-->2-->4-->5-->"
          ]
        }
      ]
    },
    {
      "cell_type": "markdown",
      "source": [
        "Implement Depth First Search Algorithm using a Stack"
      ],
      "metadata": {
        "id": "y6XfKN6OkB2x"
      }
    },
    {
      "cell_type": "code",
      "source": [
        "def dfs(graph, start, visited=None):\n",
        "    if visited is None:\n",
        "        visited = set()\n",
        "    visited.add(start)\n",
        "    print(start, end=' ')\n",
        "    for neighbor in graph[start]:\n",
        "        if neighbor not in visited:\n",
        "            dfs(graph, neighbor, visited)\n",
        "\n",
        "graph = {\n",
        "    'a': ['b', 's'],\n",
        "    'b': ['a'],\n",
        "    's': ['a', 'c', 'g'],\n",
        "    'c': ['d', 'e' ,'f' ,'s'],\n",
        "    'd': ['c'],\n",
        "    'e': ['c', 'h'],\n",
        "    'h': ['g', 'e'],\n",
        "    'f': ['c', 'g'],\n",
        "    'g': ['f' ,'s']\n",
        "}\n",
        "\n",
        "start_vertex = 'a'\n",
        "print(\"Depth-First Traversal:\")\n",
        "dfs(graph, start_vertex)"
      ],
      "metadata": {
        "colab": {
          "base_uri": "https://localhost:8080/"
        },
        "id": "2wieVFRLkiM-",
        "outputId": "ac3efbe8-c2fa-4951-e63d-30982356efbd"
      },
      "execution_count": 2,
      "outputs": [
        {
          "output_type": "stream",
          "name": "stdout",
          "text": [
            "Depth-First Traversal:\n",
            "a b s c d e h g f "
          ]
        }
      ]
    },
    {
      "cell_type": "markdown",
      "source": [
        "Implement A* Algorithm using Numpy"
      ],
      "metadata": {
        "id": "eDdtSi4kkGNx"
      }
    },
    {
      "cell_type": "code",
      "source": [
        "import numpy as np\n",
        "\n",
        "def misplaced_tiles(puzzle, goal):\n",
        "    return np.sum(np.where(puzzle != goal, 1, 0)) - 1\n",
        "\n",
        "def get_neighbors(puzzle):\n",
        "    neighbors = []\n",
        "    blank_pos = np.where(puzzle == 0)[0][0]\n",
        "    row, col = divmod(blank_pos, 3)\n",
        "\n",
        "    moves = [(-1, 0), (1, 0), (0, -1), (0, 1)]\n",
        "    for dr, dc in moves:\n",
        "        new_row, new_col = row + dr, col + dc\n",
        "        if 0 <= new_row < 3 and 0 <= new_col < 3:\n",
        "            new_blank_pos = new_row * 3 + new_col\n",
        "            new_puzzle = puzzle.copy()\n",
        "            new_puzzle[blank_pos], new_puzzle[new_blank_pos] = new_puzzle[new_blank_pos], new_puzzle[blank_pos]\n",
        "            neighbors.append(new_puzzle)\n",
        "    return neighbors\n",
        "\n",
        "def a_star_8_puzzle(initial_state, goal_state):\n",
        "    state = [{'puzzle': initial_state, 'parent': None, 'gn': 0, 'hn': misplaced_tiles(initial_state, goal_state)}]\n",
        "    explored = []\n",
        "\n",
        "    while state:\n",
        "        state.sort(key=lambda x: x['gn'] + x['hn'])\n",
        "        current = state.pop(0)\n",
        "        explored.append(current['puzzle'].tobytes())\n",
        "\n",
        "        if np.array_equal(current['puzzle'], goal_state):\n",
        "            return reconstruct_path(current, explored)\n",
        "\n",
        "        for neighbor in get_neighbors(current['puzzle']):\n",
        "            if neighbor.tobytes() not in explored:\n",
        "                gn = current['gn'] + 1\n",
        "                hn = misplaced_tiles(neighbor, goal_state)\n",
        "                state.append({'puzzle': neighbor, 'parent': current, 'gn': gn, 'hn': hn})\n",
        "\n",
        "def reconstruct_path(node, explored):\n",
        "    path = []\n",
        "    while node['parent'] is not None:\n",
        "        path.append(node['puzzle'])\n",
        "        node = node['parent']\n",
        "    path.append(node['puzzle'])\n",
        "    return path[::-1]\n",
        "\n",
        "\n",
        "initial_state = np.array([2, 8, 3, 1, 6, 4, 7, 0, 5])\n",
        "goal_state = np.array([1, 2, 3, 8, 0, 4, 7, 6, 5])\n",
        "\n",
        "solution_path = a_star_8_puzzle(initial_state, goal_state)\n",
        "print(\"Solution Path:\")\n",
        "for step, state in enumerate(solution_path):\n",
        "    print(f\"Step {step}:\\n{state.reshape(3, 3)}\\n\")\n",
        "\n",
        "print(f\"Total moves: {len(solution_path) - 1}\")"
      ],
      "metadata": {
        "colab": {
          "base_uri": "https://localhost:8080/"
        },
        "id": "VXptbZlRk7E7",
        "outputId": "15ce6ead-179e-490c-bd0c-2a29795f5e46"
      },
      "execution_count": 3,
      "outputs": [
        {
          "output_type": "stream",
          "name": "stdout",
          "text": [
            "Solution Path:\n",
            "Step 0:\n",
            "[[2 8 3]\n",
            " [1 6 4]\n",
            " [7 0 5]]\n",
            "\n",
            "Step 1:\n",
            "[[2 8 3]\n",
            " [1 0 4]\n",
            " [7 6 5]]\n",
            "\n",
            "Step 2:\n",
            "[[2 0 3]\n",
            " [1 8 4]\n",
            " [7 6 5]]\n",
            "\n",
            "Step 3:\n",
            "[[0 2 3]\n",
            " [1 8 4]\n",
            " [7 6 5]]\n",
            "\n",
            "Step 4:\n",
            "[[1 2 3]\n",
            " [0 8 4]\n",
            " [7 6 5]]\n",
            "\n",
            "Step 5:\n",
            "[[1 2 3]\n",
            " [8 0 4]\n",
            " [7 6 5]]\n",
            "\n",
            "Total moves: 5\n"
          ]
        }
      ]
    },
    {
      "cell_type": "markdown",
      "source": [],
      "metadata": {
        "id": "I7zQWIctkKvI"
      }
    }
  ]
}
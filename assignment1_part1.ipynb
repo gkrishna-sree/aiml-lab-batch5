{
  "nbformat": 4,
  "nbformat_minor": 0,
  "metadata": {
    "colab": {
      "provenance": [],
      "authorship_tag": "ABX9TyNGKD9vOyYfTAawLAkT6LJt",
      "include_colab_link": true
    },
    "kernelspec": {
      "name": "python3",
      "display_name": "Python 3"
    },
    "language_info": {
      "name": "python"
    }
  },
  "cells": [
    {
      "cell_type": "markdown",
      "metadata": {
        "id": "view-in-github",
        "colab_type": "text"
      },
      "source": [
        "<a href=\"https://colab.research.google.com/github/gkrishna-sree/aiml-lab-batch5/blob/main/assignment1_part1.ipynb\" target=\"_parent\"><img src=\"https://colab.research.google.com/assets/colab-badge.svg\" alt=\"Open In Colab\"/></a>"
      ]
    },
    {
      "cell_type": "markdown",
      "source": [
        "Implement basic data structures with numpy and pandas."
      ],
      "metadata": {
        "id": "M_o_aAphJpxW"
      }
    },
    {
      "cell_type": "markdown",
      "source": [
        "List"
      ],
      "metadata": {
        "id": "bthxpe9EJ3_p"
      }
    },
    {
      "cell_type": "code",
      "source": [
        "list1 = [1, 4, 6, 9]\n",
        "print(list1)"
      ],
      "metadata": {
        "colab": {
          "base_uri": "https://localhost:8080/"
        },
        "id": "yR47MwoaJ3ho",
        "outputId": "ad22b99d-74a1-4eb5-9dee-01248ed00075"
      },
      "execution_count": null,
      "outputs": [
        {
          "output_type": "stream",
          "name": "stdout",
          "text": [
            "[1, 4, 6, 9]\n"
          ]
        }
      ]
    },
    {
      "cell_type": "code",
      "source": [
        "list1.append(10)\n",
        "print(list1)"
      ],
      "metadata": {
        "colab": {
          "base_uri": "https://localhost:8080/"
        },
        "id": "GYyB8rehLKfy",
        "outputId": "51788b71-8553-42dc-a2a0-4327e8ba6a71"
      },
      "execution_count": null,
      "outputs": [
        {
          "output_type": "stream",
          "name": "stdout",
          "text": [
            "[1, 4, 6, 9, 10]\n"
          ]
        }
      ]
    },
    {
      "cell_type": "code",
      "source": [
        "list1.insert(2, 3)\n",
        "print(list1)"
      ],
      "metadata": {
        "colab": {
          "base_uri": "https://localhost:8080/"
        },
        "id": "5ZSLEMt8LgJq",
        "outputId": "22cec0b8-d83c-4c5e-a437-bc09865d5e5e"
      },
      "execution_count": null,
      "outputs": [
        {
          "output_type": "stream",
          "name": "stdout",
          "text": [
            "[1, 4, 3, 6, 9, 10]\n"
          ]
        }
      ]
    },
    {
      "cell_type": "code",
      "source": [
        "list3 = [0, 5, 7]\n",
        "list1.extend(list3)\n",
        "print(list1)"
      ],
      "metadata": {
        "colab": {
          "base_uri": "https://localhost:8080/"
        },
        "id": "twzYlPOLL6Bk",
        "outputId": "b3957de0-344a-4ae0-8142-d8d32f75a4a2"
      },
      "execution_count": null,
      "outputs": [
        {
          "output_type": "stream",
          "name": "stdout",
          "text": [
            "[1, 4, 3, 6, 9, 10, 0, 5, 7]\n"
          ]
        }
      ]
    },
    {
      "cell_type": "code",
      "source": [
        "list1.pop()\n",
        "print(list1)"
      ],
      "metadata": {
        "colab": {
          "base_uri": "https://localhost:8080/"
        },
        "id": "yPi3PprKM27G",
        "outputId": "5f59c851-65a9-4b10-e69d-5472bc7a7008"
      },
      "execution_count": null,
      "outputs": [
        {
          "output_type": "stream",
          "name": "stdout",
          "text": [
            "[1, 4, 3, 6, 9, 10, 0, 5]\n"
          ]
        }
      ]
    },
    {
      "cell_type": "code",
      "source": [
        "list1.pop(1)\n",
        "print(list1)"
      ],
      "metadata": {
        "colab": {
          "base_uri": "https://localhost:8080/"
        },
        "id": "AcOdPeaXM4LT",
        "outputId": "83e9d7a5-336a-48dd-be7e-a2d753a7cad7"
      },
      "execution_count": null,
      "outputs": [
        {
          "output_type": "stream",
          "name": "stdout",
          "text": [
            "[1, 3, 6, 9, 10, 0, 5]\n"
          ]
        }
      ]
    },
    {
      "cell_type": "code",
      "source": [
        "list1.remove(6)\n",
        "print(list1)"
      ],
      "metadata": {
        "colab": {
          "base_uri": "https://localhost:8080/"
        },
        "id": "BCO_pGSSM3_u",
        "outputId": "b2867455-86fa-4937-d357-cba769089dc4"
      },
      "execution_count": null,
      "outputs": [
        {
          "output_type": "stream",
          "name": "stdout",
          "text": [
            "[1, 3, 9, 10, 0, 5]\n"
          ]
        }
      ]
    },
    {
      "cell_type": "markdown",
      "source": [
        "Array"
      ],
      "metadata": {
        "id": "t-ufG8mxKO3C"
      }
    },
    {
      "cell_type": "code",
      "source": [
        "import numpy as np\n",
        "list2 = [33, 76, 12, 56]\n",
        "arr1 = np.array(list2)\n",
        "print(arr1)"
      ],
      "metadata": {
        "colab": {
          "base_uri": "https://localhost:8080/"
        },
        "id": "6pCxyeJXKOfM",
        "outputId": "fadf3b66-c31d-49c3-b7e3-ff6b6b0cc83b"
      },
      "execution_count": null,
      "outputs": [
        {
          "output_type": "stream",
          "name": "stdout",
          "text": [
            "[33 76 12 56]\n"
          ]
        }
      ]
    },
    {
      "cell_type": "code",
      "source": [
        "print('dimensions: ',arr1.ndim)"
      ],
      "metadata": {
        "colab": {
          "base_uri": "https://localhost:8080/"
        },
        "id": "QQo-GfP0YcID",
        "outputId": "c377f5c4-3f84-4c54-eac0-d126b0b04aa1"
      },
      "execution_count": null,
      "outputs": [
        {
          "output_type": "stream",
          "name": "stdout",
          "text": [
            "dimensions:  1\n"
          ]
        }
      ]
    },
    {
      "cell_type": "code",
      "source": [
        "array2d = np.array([[1, 2, 3],[4, 5, 6],[7, 8, 9]])\n",
        "print(array2d)"
      ],
      "metadata": {
        "colab": {
          "base_uri": "https://localhost:8080/"
        },
        "id": "Wr5fbx_PWeQR",
        "outputId": "968139db-13e7-4ed1-85c3-bb34fced4873"
      },
      "execution_count": null,
      "outputs": [
        {
          "output_type": "stream",
          "name": "stdout",
          "text": [
            "[[1 2 3]\n",
            " [4 5 6]\n",
            " [7 8 9]]\n"
          ]
        }
      ]
    },
    {
      "cell_type": "code",
      "source": [
        "print('dimensions: ',array2d.ndim)"
      ],
      "metadata": {
        "colab": {
          "base_uri": "https://localhost:8080/"
        },
        "id": "J4gw_Ub7YfDO",
        "outputId": "ad6e3d71-ce5a-4ea9-b262-32233b721c6f"
      },
      "execution_count": null,
      "outputs": [
        {
          "output_type": "stream",
          "name": "stdout",
          "text": [
            "dimensions:  2\n"
          ]
        }
      ]
    },
    {
      "cell_type": "code",
      "source": [
        "array3d = np.array([[[1, 2],[4, 5]],[[7, 8],[10, 11]]])\n",
        "print(array3d)"
      ],
      "metadata": {
        "colab": {
          "base_uri": "https://localhost:8080/"
        },
        "id": "WCUw6iYYXgCj",
        "outputId": "45c7dcc4-e8e5-40f9-beae-8321226b9ba1"
      },
      "execution_count": null,
      "outputs": [
        {
          "output_type": "stream",
          "name": "stdout",
          "text": [
            "[[[ 1  2]\n",
            "  [ 4  5]]\n",
            "\n",
            " [[ 7  8]\n",
            "  [10 11]]]\n"
          ]
        }
      ]
    },
    {
      "cell_type": "code",
      "source": [
        "print('dimensions: ',array3d.ndim)"
      ],
      "metadata": {
        "id": "m8z3GkdxYjBI",
        "outputId": "54d9a681-8735-4d88-fd21-27552c5ce99c",
        "colab": {
          "base_uri": "https://localhost:8080/"
        }
      },
      "execution_count": null,
      "outputs": [
        {
          "output_type": "stream",
          "name": "stdout",
          "text": [
            "dimensions:  3\n"
          ]
        }
      ]
    },
    {
      "cell_type": "markdown",
      "source": [
        "type()"
      ],
      "metadata": {
        "id": "z4OiL6NPTCam"
      }
    },
    {
      "cell_type": "code",
      "source": [
        "print(type(list1))"
      ],
      "metadata": {
        "colab": {
          "base_uri": "https://localhost:8080/"
        },
        "id": "9QziKt7rTDfB",
        "outputId": "4233afa8-37d0-4530-80bd-47a06b68bd8a"
      },
      "execution_count": null,
      "outputs": [
        {
          "output_type": "stream",
          "name": "stdout",
          "text": [
            "<class 'list'>\n"
          ]
        }
      ]
    },
    {
      "cell_type": "code",
      "source": [
        "a = True\n",
        "print(type(a))"
      ],
      "metadata": {
        "colab": {
          "base_uri": "https://localhost:8080/"
        },
        "id": "QuASSlZMTN1V",
        "outputId": "475d13a5-153c-49c1-bc66-9753e7140f05"
      },
      "execution_count": null,
      "outputs": [
        {
          "output_type": "stream",
          "name": "stdout",
          "text": [
            "<class 'bool'>\n"
          ]
        }
      ]
    },
    {
      "cell_type": "code",
      "source": [
        "a = 9.0\n",
        "print(type(a))"
      ],
      "metadata": {
        "colab": {
          "base_uri": "https://localhost:8080/"
        },
        "id": "Criw39wjTScy",
        "outputId": "04c18ada-3c5b-43c5-c685-1099366c6472"
      },
      "execution_count": null,
      "outputs": [
        {
          "output_type": "stream",
          "name": "stdout",
          "text": [
            "<class 'float'>\n"
          ]
        }
      ]
    },
    {
      "cell_type": "code",
      "source": [
        "a = 'a'\n",
        "print(type(a))"
      ],
      "metadata": {
        "colab": {
          "base_uri": "https://localhost:8080/"
        },
        "id": "0NvnovrCTWlN",
        "outputId": "393b73db-b5d4-40aa-b387-523d2590a6be"
      },
      "execution_count": null,
      "outputs": [
        {
          "output_type": "stream",
          "name": "stdout",
          "text": [
            "<class 'str'>\n"
          ]
        }
      ]
    },
    {
      "cell_type": "code",
      "source": [
        "a = 99\n",
        "print(type(a))"
      ],
      "metadata": {
        "colab": {
          "base_uri": "https://localhost:8080/"
        },
        "id": "tbLvi0ERTbdv",
        "outputId": "21cf75cb-8200-4659-850e-b1a68ecd4da2"
      },
      "execution_count": null,
      "outputs": [
        {
          "output_type": "stream",
          "name": "stdout",
          "text": [
            "<class 'int'>\n"
          ]
        }
      ]
    },
    {
      "cell_type": "code",
      "source": [
        "a =123456789098765432123456789012345678901234567890\n",
        "print(type(a))"
      ],
      "metadata": {
        "colab": {
          "base_uri": "https://localhost:8080/"
        },
        "id": "jwe0c1AMTfvN",
        "outputId": "84bc36be-3aed-48b3-d7c1-f8aab42df681"
      },
      "execution_count": null,
      "outputs": [
        {
          "output_type": "stream",
          "name": "stdout",
          "text": [
            "<class 'int'>\n"
          ]
        }
      ]
    },
    {
      "cell_type": "markdown",
      "source": [
        "Perform mathematical operations:"
      ],
      "metadata": {
        "id": "0cgpx-GHWoi0"
      }
    },
    {
      "cell_type": "code",
      "source": [
        "print(arr1)"
      ],
      "metadata": {
        "colab": {
          "base_uri": "https://localhost:8080/"
        },
        "id": "GuExsR7eXwWQ",
        "outputId": "ba1cf6ec-7e2f-4132-c707-de1d97e6d6dc"
      },
      "execution_count": null,
      "outputs": [
        {
          "output_type": "stream",
          "name": "stdout",
          "text": [
            "[33 76 12 56]\n"
          ]
        }
      ]
    },
    {
      "cell_type": "code",
      "source": [
        "result = arr1 * 2"
      ],
      "metadata": {
        "id": "I-nrI2XLXALg"
      },
      "execution_count": null,
      "outputs": []
    },
    {
      "cell_type": "code",
      "source": [
        "print(result)"
      ],
      "metadata": {
        "colab": {
          "base_uri": "https://localhost:8080/"
        },
        "id": "TumJ_qRBXng2",
        "outputId": "3c7e6bc9-c70d-4a1b-9169-b7715d5b997d"
      },
      "execution_count": null,
      "outputs": [
        {
          "output_type": "stream",
          "name": "stdout",
          "text": [
            "[ 66 152  24 112]\n"
          ]
        }
      ]
    },
    {
      "cell_type": "code",
      "source": [
        "result1 = arr1/2"
      ],
      "metadata": {
        "id": "16h3l0KQXpp3"
      },
      "execution_count": null,
      "outputs": []
    },
    {
      "cell_type": "code",
      "source": [
        "print(result1)"
      ],
      "metadata": {
        "colab": {
          "base_uri": "https://localhost:8080/"
        },
        "id": "GMKdOe9oX2Rt",
        "outputId": "7f86cc0e-4a77-4d6b-fad5-f2f51fe3e47d"
      },
      "execution_count": null,
      "outputs": [
        {
          "output_type": "stream",
          "name": "stdout",
          "text": [
            "[16.5 38.   6.  28. ]\n"
          ]
        }
      ]
    },
    {
      "cell_type": "code",
      "source": [
        "result_poweroff = np.power(arr1, 2)\n",
        "print(result_poweroff)\n"
      ],
      "metadata": {
        "colab": {
          "base_uri": "https://localhost:8080/"
        },
        "id": "xVILVjntX4c_",
        "outputId": "8f2d920a-8cff-4f12-a5ff-c466ed580f50"
      },
      "execution_count": null,
      "outputs": [
        {
          "output_type": "stream",
          "name": "stdout",
          "text": [
            "[1089 5776  144 3136]\n"
          ]
        }
      ]
    },
    {
      "cell_type": "code",
      "source": [
        "text_output = f\"Addition of Two: {arr1 + arr1}\"\n",
        "print(text_output)"
      ],
      "metadata": {
        "colab": {
          "base_uri": "https://localhost:8080/"
        },
        "id": "uWfE95H6YDbv",
        "outputId": "e0a39b53-1657-41bd-d477-fde77b852313"
      },
      "execution_count": null,
      "outputs": [
        {
          "output_type": "stream",
          "name": "stdout",
          "text": [
            "Addition of Two: [ 66 152  24 112]\n"
          ]
        }
      ]
    },
    {
      "cell_type": "code",
      "source": [
        "print(\"Sin:\", np.sin(arr1))\n",
        "print(\"Log:\", np.log(arr1))\n",
        "print(\"Exponential:\", np.exp(arr1))\n",
        "print(\"Log2:\", np.log2(arr1))"
      ],
      "metadata": {
        "colab": {
          "base_uri": "https://localhost:8080/"
        },
        "id": "vUBknANwYKc0",
        "outputId": "2abb07db-4c65-4449-ec58-20ceba25ff80"
      },
      "execution_count": null,
      "outputs": [
        {
          "output_type": "stream",
          "name": "stdout",
          "text": [
            "Sin: [ 0.99991186  0.56610764 -0.53657292 -0.521551  ]\n",
            "Log: [3.49650756 4.33073334 2.48490665 4.02535169]\n",
            "Exponential: [2.14643580e+14 1.01480039e+33 1.62754791e+05 2.09165950e+24]\n",
            "Log2: [5.04439412 6.24792751 3.5849625  5.80735492]\n"
          ]
        }
      ]
    },
    {
      "cell_type": "code",
      "source": [],
      "metadata": {
        "id": "iBHwciOVYu0D"
      },
      "execution_count": null,
      "outputs": []
    }
  ]
}